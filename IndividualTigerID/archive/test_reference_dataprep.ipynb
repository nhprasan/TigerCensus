{
 "cells": [
  {
   "cell_type": "markdown",
   "id": "75da8962",
   "metadata": {},
   "source": [
    "### Data Exploration"
   ]
  },
  {
   "cell_type": "code",
   "execution_count": 1,
   "id": "e8fd7bb7",
   "metadata": {
    "scrolled": false
   },
   "outputs": [
    {
     "name": "stdout",
     "output_type": "stream",
     "text": [
      "Total number of images: 1887\n",
      "Number of unique tigers: 107\n",
      "\n",
      "Distribution of 'id' column (Top 10 ids by frequency):\n"
     ]
    },
    {
     "data": {
      "text/plain": [
       "153    98\n",
       "160    97\n",
       "154    49\n",
       "246    48\n",
       "243    41\n",
       "136    38\n",
       "265    38\n",
       "237    37\n",
       "249    37\n",
       "247    33\n",
       "Name: id, dtype: int64"
      ]
     },
     "metadata": {},
     "output_type": "display_data"
    }
   ],
   "source": [
    "# Import libraries\n",
    "import pandas as pd\n",
    "\n",
    "# Load the CSV file into a Pandas DataFrame\n",
    "csv_file_path = 'reid_data/train/reid_train.csv'\n",
    "df = pd.read_csv(csv_file_path)\n",
    "\n",
    "# Display the total image count\n",
    "total_image_count = df.shape[0]\n",
    "print(f\"Total number of images: {total_image_count}\")\n",
    "\n",
    "# Get the number of unique tigers (unique IDs)\n",
    "unique_tiger_count = df['id'].nunique()\n",
    "print(f\"Number of unique tigers: {unique_tiger_count}\")\n",
    "\n",
    "# Show distribution of the 'id' column\n",
    "print(\"\\nDistribution of 'id' column (Top 10 ids by frequency):\")\n",
    "display(df['id'].value_counts().head(10))"
   ]
  },
  {
   "cell_type": "code",
   "execution_count": 2,
   "id": "87e2d3f6",
   "metadata": {
    "scrolled": true
   },
   "outputs": [
    {
     "data": {
      "image/png": "[encoded data removed]",
      "text/plain": [
       "<Figure size 1152x432 with 1 Axes>"
      ]
     },
     "metadata": {
      "needs_background": "light"
     },
     "output_type": "display_data"
    }
   ],
   "source": [
    "# Visualize the distribution of image counts per Tiger ID\n",
    "import matplotlib.pyplot as plt\n",
    "import seaborn as sns\n",
    "\n",
    "# Set the size of the figure\n",
    "plt.figure(figsize=(16, 6))\n",
    "\n",
    "# Create a countplot using Seaborn\n",
    "sns.countplot(x='id', data=df, order=df['id'].value_counts().index)\n",
    "plt.xticks(rotation=45, ha='right')\n",
    "\n",
    "# Set the title and labels for the plot\n",
    "plt.title('Distribution of Image Counts per ID')\n",
    "plt.xlabel('Tiger ID')\n",
    "plt.ylabel('Image Count')\n",
    "\n",
    "# Show the plot\n",
    "plt.show()"
   ]
  },
  {
   "cell_type": "markdown",
   "id": "3d50a658",
   "metadata": {},
   "source": [
    "### Test (Query images) = minimum 2 images per tiger"
   ]
  },
  {
   "cell_type": "code",
   "execution_count": 3,
   "id": "d84cd4cb",
   "metadata": {
    "scrolled": true
   },
   "outputs": [
    {
     "name": "stdout",
     "output_type": "stream",
     "text": [
      "Moved 310 images to the test folder.\n",
      "New annotations saved to: reid_data/test/reid_test.csv\n",
      "Updated original annotations saved to: reid_data/train/reid_train.csv\n"
     ]
    }
   ],
   "source": [
    "import os\n",
    "import random\n",
    "import shutil\n",
    "\n",
    "# Define directories\n",
    "train_dir = 'reid_data/train/'\n",
    "test_dir = 'reid_data/test/'\n",
    "annotation_file = 'reid_data/train/reid_train.csv'\n",
    "test_annotation_file = 'reid_data/test/reid_test.csv'\n",
    "\n",
    "# Create test directory if it doesn't exist\n",
    "os.makedirs(test_dir, exist_ok=True)\n",
    "\n",
    "# Load the original annotation file\n",
    "df = pd.read_csv(annotation_file)\n",
    "\n",
    "# Count the number of images per tiger ID\n",
    "image_counts = df['id'].value_counts().reset_index()\n",
    "image_counts.columns = ['id', 'image_count']\n",
    "\n",
    "# Prepare a list for new annotations and a set to track moved images\n",
    "new_annotations = []\n",
    "moved_image_files = set()  # To track files being moved\n",
    "\n",
    "# Process each tiger ID based on their image count\n",
    "for _, row in image_counts.iterrows():\n",
    "    tiger_id = row['id']\n",
    "    count = row['image_count']\n",
    "    \n",
    "    # Get the filenames for this tiger ID\n",
    "    file_names = df[df['id'] == tiger_id]['file_name'].values\n",
    "    \n",
    "    # Determine how many images to select based on the count\n",
    "    if count < 20:\n",
    "        num_to_select = 2\n",
    "    elif 20 <= count < 40:\n",
    "        num_to_select = 4\n",
    "    elif 40 <= count < 60:\n",
    "        num_to_select = 8\n",
    "    elif 60 <= count < 80:\n",
    "        num_to_select = 14\n",
    "    elif 80 <= count < 100:\n",
    "        num_to_select = 22\n",
    "    else:\n",
    "        continue\n",
    "\n",
    "    # Randomly select the specified number of images\n",
    "    selected_images = random.sample(list(file_names), min(num_to_select, len(file_names)))\n",
    "\n",
    "    # Move images and collect new annotations\n",
    "    for img_file in selected_images:\n",
    "        # Move the image to the test directory\n",
    "        src_path = os.path.join(train_dir, img_file)\n",
    "        dst_path = os.path.join(test_dir, img_file)\n",
    "        shutil.move(src_path, dst_path)\n",
    "        \n",
    "        # Add to new annotations list and track moved files\n",
    "        new_annotations.append({'id': tiger_id, 'file_name': img_file})\n",
    "        moved_image_files.add(img_file)  # Track the moved image file\n",
    "\n",
    "# Create a DataFrame for new annotations\n",
    "new_annotations_df = pd.DataFrame(new_annotations)\n",
    "\n",
    "# Save the new annotation file for test images\n",
    "new_annotations_df.to_csv(test_annotation_file, index=False)\n",
    "\n",
    "# Remove the moved images from the original DataFrame\n",
    "df = df[~df['file_name'].isin(moved_image_files)]\n",
    "\n",
    "# Save the updated original annotation file\n",
    "df.to_csv(annotation_file, index=False)\n",
    "\n",
    "# Display the results\n",
    "print(f\"Moved {len(new_annotations)} images to the test folder.\")\n",
    "print(\"New annotations saved to:\", test_annotation_file)\n",
    "print(\"Updated original annotations saved to:\", annotation_file)"
   ]
  },
  {
   "cell_type": "code",
   "execution_count": 10,
   "id": "3594ba8b",
   "metadata": {},
   "outputs": [
    {
     "name": "stdout",
     "output_type": "stream",
     "text": [
      "--- Train Dataset ---\n",
      "Total number of images: 1577\n",
      "Number of unique tigers: 107\n",
      "\n",
      "Distribution of 'id' column (Top 10 ids by frequency):\n",
      "153    76\n",
      "160    75\n",
      "154    41\n",
      "246    40\n",
      "265    34\n",
      "136    34\n",
      "237    33\n",
      "249    33\n",
      "243    33\n",
      "247    29\n",
      "Name: id, dtype: int64\n",
      "\n",
      "--- Test Dataset ---\n",
      "Total number of images: 310\n",
      "Number of unique tigers: 107\n",
      "\n",
      "Distribution of 'id' column (Top 10 ids by frequency):\n",
      "153    22\n",
      "160    22\n",
      "154     8\n",
      "246     8\n",
      "243     8\n",
      "264     4\n",
      "256     4\n",
      "175     4\n",
      "100     4\n",
      "97      4\n",
      "Name: id, dtype: int64\n"
     ]
    }
   ],
   "source": [
    "# Define file paths\n",
    "train_annotation_file = 'reid_data/train/reid_train.csv'\n",
    "test_annotation_file = 'reid_data/test/reid_test.csv'\n",
    "\n",
    "# Load the original training data and the test data\n",
    "train_df = pd.read_csv(train_annotation_file)\n",
    "test_df = pd.read_csv(test_annotation_file)\n",
    "\n",
    "# Function to explore dataset\n",
    "def explore_dataset(df, dataset_name):\n",
    "    print(f\"--- {dataset_name} Dataset ---\")\n",
    "    \n",
    "    # Display the total image count\n",
    "    total_image_count = df.shape[0]\n",
    "    print(f\"Total number of images: {total_image_count}\")\n",
    "\n",
    "    # Get the number of unique tigers (unique IDs)\n",
    "    unique_tiger_count = df['id'].nunique()\n",
    "    print(f\"Number of unique tigers: {unique_tiger_count}\")\n",
    "\n",
    "    # Show distribution of the 'id' column\n",
    "    print(\"\\nDistribution of 'id' column (Top 10 ids by frequency):\")\n",
    "    print(df['id'].value_counts().head(10))\n",
    "\n",
    "# Explore the train dataset\n",
    "explore_dataset(train_df, \"Train\")\n",
    "\n",
    "print()\n",
    "\n",
    "# Explore the test dataset\n",
    "explore_dataset(test_df, \"Test\")"
   ]
  },
  {
   "cell_type": "markdown",
   "id": "db172c30",
   "metadata": {},
   "source": [
    "### Reference (Gallary images) = about 8 images per tiger, forming the database\n",
    "\n",
    "The similarities derived from a Siamese network implementation are utilized to rank images in a database of known tiger individuals according to their similarity to a query image (test images). This reference image folder contains distinct images of each tiger (ideally from different angles), enabling reliable comparisons with test images."
   ]
  },
  {
   "cell_type": "code",
   "execution_count": 13,
   "id": "bb177766",
   "metadata": {},
   "outputs": [
    {
     "name": "stdout",
     "output_type": "stream",
     "text": [
      "Copied images to the reference directory: reid_data/reference/\n",
      "New annotations saved to: reid_data/reference/reid_reference.csv\n"
     ]
    }
   ],
   "source": [
    "# Define directories\n",
    "train_dir = 'reid_data/train/'\n",
    "reference_dir = 'reid_data/reference/'\n",
    "annotation_file = 'reid_data/train/reid_train.csv'\n",
    "reference_annotation_file = 'reid_data/reference/reid_reference.csv'\n",
    "\n",
    "# Create reference directory if it doesn't exist\n",
    "os.makedirs(reference_dir, exist_ok=True)\n",
    "\n",
    "# Load the original annotation file\n",
    "df = pd.read_csv(annotation_file)\n",
    "\n",
    "# Prepare a list for new annotations\n",
    "new_annotations = []\n",
    "\n",
    "# Count the number of images per tiger ID\n",
    "image_counts = df['id'].value_counts().reset_index()\n",
    "image_counts.columns = ['id', 'image_count']\n",
    "\n",
    "# Prepare to copy images\n",
    "for tiger_id in image_counts['id']:\n",
    "    # Get the filenames for this tiger ID\n",
    "    file_names = df[df['id'] == tiger_id]['file_name'].values\n",
    "    \n",
    "    # Randomly select 8 images or all if less than 8\n",
    "    selected_images = random.sample(list(file_names), min(8, len(file_names)))\n",
    "\n",
    "    # Copy images to the reference directory and collect annotations\n",
    "    for img_file in selected_images:\n",
    "        src_path = os.path.join(train_dir, img_file)\n",
    "        dst_path = os.path.join(reference_dir, img_file)\n",
    "        shutil.copy(src_path, dst_path)\n",
    "\n",
    "        # Append to new annotations list\n",
    "        new_annotations.append({'id': tiger_id, 'file_name': img_file})\n",
    "\n",
    "# Create a DataFrame for new annotations\n",
    "new_annotations_df = pd.DataFrame(new_annotations)\n",
    "\n",
    "# Save the new annotation file for reference images\n",
    "new_annotations_df.to_csv(reference_annotation_file, index=False)\n",
    "\n",
    "# Display completion message\n",
    "print(f\"Copied images to the reference directory: {reference_dir}\")\n",
    "print(f\"New annotations saved to: {reference_annotation_file}\")"
   ]
  },
  {
   "cell_type": "code",
   "execution_count": 14,
   "id": "77f710a1",
   "metadata": {},
   "outputs": [
    {
     "name": "stdout",
     "output_type": "stream",
     "text": [
      "--- Train Dataset ---\n",
      "Total number of images: 1577\n",
      "Number of unique tigers: 107\n",
      "\n",
      "Distribution of 'id' column (Top 10 ids by frequency):\n",
      "153    76\n",
      "160    75\n",
      "154    41\n",
      "246    40\n",
      "265    34\n",
      "136    34\n",
      "237    33\n",
      "249    33\n",
      "243    33\n",
      "247    29\n",
      "Name: id, dtype: int64\n",
      "\n",
      "\n",
      "--- Test Dataset ---\n",
      "Total number of images: 310\n",
      "Number of unique tigers: 107\n",
      "\n",
      "Distribution of 'id' column (Top 10 ids by frequency):\n",
      "153    22\n",
      "160    22\n",
      "154     8\n",
      "246     8\n",
      "243     8\n",
      "264     4\n",
      "256     4\n",
      "175     4\n",
      "100     4\n",
      "97      4\n",
      "Name: id, dtype: int64\n",
      "\n",
      "\n",
      "--- Reference Dataset ---\n",
      "Total number of images: 856\n",
      "Number of unique tigers: 107\n",
      "\n",
      "Distribution of 'id' column (Top 10 ids by frequency):\n",
      "153    8\n",
      "12     8\n",
      "60     8\n",
      "24     8\n",
      "76     8\n",
      "85     8\n",
      "28     8\n",
      "117    8\n",
      "88     8\n",
      "130    8\n",
      "Name: id, dtype: int64\n",
      "\n",
      "\n"
     ]
    }
   ],
   "source": [
    "# Define file paths\n",
    "train_annotation_file = 'reid_data/train/reid_train.csv'       # Training annotations\n",
    "test_annotation_file = 'reid_data/test/reid_test.csv'          # Test annotations\n",
    "reference_annotation_file = 'reid_data/reference/reid_reference.csv'  # Reference annotations\n",
    "\n",
    "# Load the annotation files into DataFrames\n",
    "train_df = pd.read_csv(train_annotation_file)\n",
    "test_df = pd.read_csv(test_annotation_file)\n",
    "reference_df = pd.read_csv(reference_annotation_file)\n",
    "\n",
    "# Function to explore dataset\n",
    "def explore_dataset(df, dataset_name):\n",
    "    print(f\"--- {dataset_name} Dataset ---\")\n",
    "    \n",
    "    # Display the total image count\n",
    "    total_image_count = df.shape[0]\n",
    "    print(f\"Total number of images: {total_image_count}\")\n",
    "\n",
    "    # Get the number of unique tigers (unique IDs)\n",
    "    unique_tiger_count = df['id'].nunique()\n",
    "    print(f\"Number of unique tigers: {unique_tiger_count}\")\n",
    "\n",
    "    # Show distribution of the 'id' column\n",
    "    print(\"\\nDistribution of 'id' column (Top 10 ids by frequency):\")\n",
    "    print(df['id'].value_counts().head(10))\n",
    "    print(\"\\n\")\n",
    "\n",
    "# Explore the train dataset\n",
    "explore_dataset(train_df, \"Train\")\n",
    "\n",
    "# Explore the test dataset\n",
    "explore_dataset(test_df, \"Test\")\n",
    "\n",
    "# Explore the reference dataset\n",
    "explore_dataset(reference_df, \"Reference\")"
   ]
  },
  {
   "cell_type": "code",
   "execution_count": null,
   "id": "eccfab70",
   "metadata": {},
   "outputs": [],
   "source": []
  }
 ],
 "metadata": {
  "kernelspec": {
   "display_name": "Python 3 (ipykernel)",
   "language": "python",
   "name": "python3"
  },
  "language_info": {
   "codemirror_mode": {
    "name": "ipython",
    "version": 3
   },
   "file_extension": ".py",
   "mimetype": "text/x-python",
   "name": "python",
   "nbconvert_exporter": "python",
   "pygments_lexer": "ipython3",
   "version": "3.8.12"
  }
 },
 "nbformat": 4,
 "nbformat_minor": 5
}
